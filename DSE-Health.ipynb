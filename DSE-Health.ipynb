{
 "cells": [
  {
   "cell_type": "code",
   "execution_count": 2,
   "metadata": {
    "collapsed": true
   },
   "outputs": [],
   "source": [
    "import pandas as pd\n",
    "from pandas import DataFrame\n",
    "import sklearn\n",
    "from sklearn.cluster import KMeans\n",
    "import matplotlib\n",
    "%matplotlib inline"
   ]
  },
  {
   "cell_type": "code",
   "execution_count": 3,
   "metadata": {
    "collapsed": true
   },
   "outputs": [],
   "source": [
    "train_path = './57_hypothyroid/TRAIN/dataset_TRAIN/tables/learningData.csv'\n",
    "test_path = './57_hypothyroid/TEST/dataset_TEST/tables/learningData.csv'"
   ]
  },
  {
   "cell_type": "code",
   "execution_count": 4,
   "metadata": {
    "collapsed": true
   },
   "outputs": [],
   "source": [
    "train_data = pd.read_csv(train_path)\n",
    "test_data = pd.read_csv(test_path)"
   ]
  },
  {
   "cell_type": "code",
   "execution_count": 4,
   "metadata": {},
   "outputs": [
    {
     "name": "stdout",
     "output_type": "stream",
     "text": [
      "Index(['d3mIndex', 'age', 'sex', 'on_thyroxine', 'query_on_thyroxine',\n",
      "       'on_antithyroid_medication', 'sick', 'pregnant', 'thyroid_surgery',\n",
      "       'I131_treatment', 'query_hypothyroid', 'query_hyperthyroid', 'lithium',\n",
      "       'goitre', 'tumor', 'hypopituitary', 'psych', 'TSH_measured', 'TSH',\n",
      "       'T3_measured', 'T3', 'TT4_measured', 'TT4', 'T4U_measured', 'T4U',\n",
      "       'FTI_measured', 'FTI', 'TBG_measured', 'TBG', 'referral_source',\n",
      "       'Class'],\n",
      "      dtype='object')\n"
     ]
    }
   ],
   "source": [
    "print(train_data.columns)"
   ]
  },
  {
   "cell_type": "code",
   "execution_count": 4,
   "metadata": {},
   "outputs": [
    {
     "name": "stdout",
     "output_type": "stream",
     "text": [
      "<class 'pandas.core.frame.DataFrame'>\n",
      "RangeIndex: 3018 entries, 0 to 3017\n",
      "Data columns (total 30 columns):\n",
      "age                          3017 non-null float64\n",
      "sex                          2897 non-null object\n",
      "on_thyroxine                 3018 non-null object\n",
      "query_on_thyroxine           3018 non-null object\n",
      "on_antithyroid_medication    3018 non-null object\n",
      "sick                         3018 non-null object\n",
      "pregnant                     3018 non-null object\n",
      "thyroid_surgery              3018 non-null object\n",
      "I131_treatment               3018 non-null object\n",
      "query_hypothyroid            3018 non-null object\n",
      "query_hyperthyroid           3018 non-null object\n",
      "lithium                      3018 non-null object\n",
      "goitre                       3018 non-null object\n",
      "tumor                        3018 non-null object\n",
      "hypopituitary                3018 non-null object\n",
      "psych                        3018 non-null object\n",
      "TSH_measured                 3018 non-null object\n",
      "TSH                          2714 non-null float64\n",
      "T3_measured                  3018 non-null object\n",
      "T3                           2394 non-null float64\n",
      "TT4_measured                 3018 non-null object\n",
      "TT4                          2827 non-null float64\n",
      "T4U_measured                 3018 non-null object\n",
      "T4U                          2696 non-null float64\n",
      "FTI_measured                 3018 non-null object\n",
      "FTI                          2696 non-null float64\n",
      "TBG_measured                 3018 non-null object\n",
      "TBG                          0 non-null float64\n",
      "referral_source              3018 non-null object\n",
      "Class                        3018 non-null object\n",
      "dtypes: float64(7), object(23)\n",
      "memory usage: 707.4+ KB\n"
     ]
    }
   ],
   "source": [
    "#train_data = train_data.drop('d3mIndex', axis=1)\n",
    "train_data.info()"
   ]
  },
  {
   "cell_type": "code",
   "execution_count": 5,
   "metadata": {},
   "outputs": [
    {
     "name": "stdout",
     "output_type": "stream",
     "text": [
      "<class 'pandas.core.frame.DataFrame'>\n",
      "RangeIndex: 3018 entries, 0 to 3017\n",
      "Data columns (total 30 columns):\n",
      "d3mIndex                     3018 non-null int64\n",
      "age                          3017 non-null float64\n",
      "sex                          2897 non-null object\n",
      "on_thyroxine                 3018 non-null object\n",
      "query_on_thyroxine           3018 non-null object\n",
      "on_antithyroid_medication    3018 non-null object\n",
      "sick                         3018 non-null object\n",
      "pregnant                     3018 non-null object\n",
      "thyroid_surgery              3018 non-null object\n",
      "I131_treatment               3018 non-null object\n",
      "query_hypothyroid            3018 non-null object\n",
      "query_hyperthyroid           3018 non-null object\n",
      "lithium                      3018 non-null object\n",
      "goitre                       3018 non-null object\n",
      "tumor                        3018 non-null object\n",
      "hypopituitary                3018 non-null object\n",
      "psych                        3018 non-null object\n",
      "TSH_measured                 3018 non-null object\n",
      "TSH                          2714 non-null float64\n",
      "T3_measured                  3018 non-null object\n",
      "T3                           2394 non-null float64\n",
      "TT4_measured                 3018 non-null object\n",
      "TT4                          2827 non-null float64\n",
      "T4U_measured                 3018 non-null object\n",
      "T4U                          2696 non-null float64\n",
      "FTI_measured                 3018 non-null object\n",
      "FTI                          2696 non-null float64\n",
      "TBG_measured                 3018 non-null object\n",
      "referral_source              3018 non-null object\n",
      "Class                        3018 non-null object\n",
      "dtypes: float64(6), int64(1), object(23)\n",
      "memory usage: 707.4+ KB\n"
     ]
    }
   ],
   "source": [
    "train_data = train_data.dropna(axis=1, how='all')\n",
    "train_data.info()"
   ]
  },
  {
   "cell_type": "markdown",
   "metadata": {},
   "source": [
    "2098 rows out of 3018 contain no NA values."
   ]
  },
  {
   "cell_type": "code",
   "execution_count": 6,
   "metadata": {},
   "outputs": [
    {
     "name": "stdout",
     "output_type": "stream",
     "text": [
      "            age         TSH         T3          TT4       T4U          FTI  \\\n",
      "age  419.823776  -22.318305  -4.039062   -27.989082 -0.661944    36.092942   \n",
      "TSH  -22.318305  550.246690  -3.076187  -222.325519  0.296704  -238.569204   \n",
      "T3    -4.039062   -3.076187   0.694689    17.062767  0.077400    10.113822   \n",
      "TT4  -27.989082 -222.325519  17.062767  1285.059166  3.177610   946.738278   \n",
      "T4U   -0.661944    0.296704   0.077400     3.177610  0.039244    -1.094783   \n",
      "FTI   36.092942 -238.569204  10.113822   946.738278 -1.094783  1103.487607   \n",
      "TBG         NaN         NaN        NaN          NaN       NaN          NaN   \n",
      "\n",
      "     TBG  \n",
      "age  NaN  \n",
      "TSH  NaN  \n",
      "T3   NaN  \n",
      "TT4  NaN  \n",
      "T4U  NaN  \n",
      "FTI  NaN  \n",
      "TBG  NaN  \n"
     ]
    }
   ],
   "source": [
    "print(train_data.cov())"
   ]
  },
  {
   "cell_type": "code",
   "execution_count": 19,
   "metadata": {},
   "outputs": [
    {
     "data": {
      "text/html": [
       "<div>\n",
       "<style scoped>\n",
       "    .dataframe tbody tr th:only-of-type {\n",
       "        vertical-align: middle;\n",
       "    }\n",
       "\n",
       "    .dataframe tbody tr th {\n",
       "        vertical-align: top;\n",
       "    }\n",
       "\n",
       "    .dataframe thead th {\n",
       "        text-align: right;\n",
       "    }\n",
       "</style>\n",
       "<table border=\"1\" class=\"dataframe\">\n",
       "  <thead>\n",
       "    <tr style=\"text-align: right;\">\n",
       "      <th></th>\n",
       "      <th>d3mIndex</th>\n",
       "      <th>age</th>\n",
       "      <th>TSH</th>\n",
       "      <th>T3</th>\n",
       "      <th>TT4</th>\n",
       "      <th>T4U</th>\n",
       "      <th>FTI</th>\n",
       "    </tr>\n",
       "  </thead>\n",
       "  <tbody>\n",
       "    <tr>\n",
       "      <th>count</th>\n",
       "      <td>3018.000000</td>\n",
       "      <td>3017.000000</td>\n",
       "      <td>2714.000000</td>\n",
       "      <td>2394.000000</td>\n",
       "      <td>2827.000000</td>\n",
       "      <td>2696.000000</td>\n",
       "      <td>2696.000000</td>\n",
       "    </tr>\n",
       "    <tr>\n",
       "      <th>mean</th>\n",
       "      <td>1883.002319</td>\n",
       "      <td>51.904541</td>\n",
       "      <td>4.962017</td>\n",
       "      <td>2.019173</td>\n",
       "      <td>108.496852</td>\n",
       "      <td>0.996218</td>\n",
       "      <td>110.468064</td>\n",
       "    </tr>\n",
       "    <tr>\n",
       "      <th>std</th>\n",
       "      <td>1085.121051</td>\n",
       "      <td>20.489602</td>\n",
       "      <td>23.457338</td>\n",
       "      <td>0.833480</td>\n",
       "      <td>35.847722</td>\n",
       "      <td>0.198100</td>\n",
       "      <td>33.218784</td>\n",
       "    </tr>\n",
       "    <tr>\n",
       "      <th>min</th>\n",
       "      <td>0.000000</td>\n",
       "      <td>1.000000</td>\n",
       "      <td>0.005000</td>\n",
       "      <td>0.100000</td>\n",
       "      <td>2.000000</td>\n",
       "      <td>0.360000</td>\n",
       "      <td>2.000000</td>\n",
       "    </tr>\n",
       "    <tr>\n",
       "      <th>25%</th>\n",
       "      <td>949.250000</td>\n",
       "      <td>36.000000</td>\n",
       "      <td>0.500000</td>\n",
       "      <td>1.600000</td>\n",
       "      <td>87.000000</td>\n",
       "      <td>0.870000</td>\n",
       "      <td>93.000000</td>\n",
       "    </tr>\n",
       "    <tr>\n",
       "      <th>50%</th>\n",
       "      <td>1891.500000</td>\n",
       "      <td>54.000000</td>\n",
       "      <td>1.400000</td>\n",
       "      <td>2.000000</td>\n",
       "      <td>104.000000</td>\n",
       "      <td>0.970000</td>\n",
       "      <td>107.000000</td>\n",
       "    </tr>\n",
       "    <tr>\n",
       "      <th>75%</th>\n",
       "      <td>2812.750000</td>\n",
       "      <td>68.000000</td>\n",
       "      <td>2.700000</td>\n",
       "      <td>2.400000</td>\n",
       "      <td>125.000000</td>\n",
       "      <td>1.080000</td>\n",
       "      <td>124.000000</td>\n",
       "    </tr>\n",
       "    <tr>\n",
       "      <th>max</th>\n",
       "      <td>3771.000000</td>\n",
       "      <td>455.000000</td>\n",
       "      <td>530.000000</td>\n",
       "      <td>10.600000</td>\n",
       "      <td>430.000000</td>\n",
       "      <td>2.320000</td>\n",
       "      <td>395.000000</td>\n",
       "    </tr>\n",
       "  </tbody>\n",
       "</table>\n",
       "</div>"
      ],
      "text/plain": [
       "          d3mIndex          age          TSH           T3          TT4  \\\n",
       "count  3018.000000  3017.000000  2714.000000  2394.000000  2827.000000   \n",
       "mean   1883.002319    51.904541     4.962017     2.019173   108.496852   \n",
       "std    1085.121051    20.489602    23.457338     0.833480    35.847722   \n",
       "min       0.000000     1.000000     0.005000     0.100000     2.000000   \n",
       "25%     949.250000    36.000000     0.500000     1.600000    87.000000   \n",
       "50%    1891.500000    54.000000     1.400000     2.000000   104.000000   \n",
       "75%    2812.750000    68.000000     2.700000     2.400000   125.000000   \n",
       "max    3771.000000   455.000000   530.000000    10.600000   430.000000   \n",
       "\n",
       "               T4U          FTI  \n",
       "count  2696.000000  2696.000000  \n",
       "mean      0.996218   110.468064  \n",
       "std       0.198100    33.218784  \n",
       "min       0.360000     2.000000  \n",
       "25%       0.870000    93.000000  \n",
       "50%       0.970000   107.000000  \n",
       "75%       1.080000   124.000000  \n",
       "max       2.320000   395.000000  "
      ]
     },
     "execution_count": 19,
     "metadata": {},
     "output_type": "execute_result"
    }
   ],
   "source": [
    "train_data.describe()"
   ]
  },
  {
   "cell_type": "markdown",
   "metadata": {},
   "source": [
    "Something isn't right with the ages. There's a max age of 455 (likely 45). Only one though, so that's easy to correct."
   ]
  },
  {
   "cell_type": "code",
   "execution_count": 27,
   "metadata": {},
   "outputs": [
    {
     "name": "stdout",
     "output_type": "stream",
     "text": [
      "2190      1.0\n",
      "2127      1.0\n",
      "2044      1.0\n",
      "181       1.0\n",
      "90        1.0\n",
      "613       1.0\n",
      "1250      2.0\n",
      "1350      2.0\n",
      "1111      2.0\n",
      "973       4.0\n",
      "1414      6.0\n",
      "2895      7.0\n",
      "332       7.0\n",
      "1203      7.0\n",
      "1035      8.0\n",
      "2197      8.0\n",
      "222      10.0\n",
      "2315     11.0\n",
      "2530     11.0\n",
      "1745     11.0\n",
      "998      11.0\n",
      "2455     12.0\n",
      "958      12.0\n",
      "987      13.0\n",
      "1301     13.0\n",
      "2039     13.0\n",
      "691      13.0\n",
      "754      14.0\n",
      "2755     14.0\n",
      "2206     14.0\n",
      "        ...  \n",
      "2026     87.0\n",
      "618      88.0\n",
      "2107     88.0\n",
      "1607     88.0\n",
      "2813     88.0\n",
      "1926     88.0\n",
      "2799     88.0\n",
      "1196     88.0\n",
      "2839     88.0\n",
      "2189     89.0\n",
      "2588     89.0\n",
      "1029     89.0\n",
      "299      89.0\n",
      "1702     89.0\n",
      "1636     89.0\n",
      "2299     89.0\n",
      "353      90.0\n",
      "1117     90.0\n",
      "1245     90.0\n",
      "450      90.0\n",
      "1795     90.0\n",
      "1380     91.0\n",
      "1189     91.0\n",
      "2217     92.0\n",
      "2254     92.0\n",
      "1929     93.0\n",
      "2436     93.0\n",
      "2148     94.0\n",
      "1083    455.0\n",
      "1586      NaN\n",
      "Name: age, Length: 3018, dtype: float64\n"
     ]
    }
   ],
   "source": [
    "age = train_data['age']\n",
    "print(age.sort_values(ascending=True))"
   ]
  },
  {
   "cell_type": "code",
   "execution_count": 39,
   "metadata": {},
   "outputs": [
    {
     "name": "stdout",
     "output_type": "stream",
     "text": [
      "[1 0 1 ... 1 0 0]\n"
     ]
    }
   ],
   "source": [
    "float_df = train_data.select_dtypes(include=[float]).dropna(axis=0, how='any')\n",
    "kmeans_model = KMeans(n_clusters=4)\n",
    "kmeans_model = kmeans_model.fit(float_df)\n",
    "print(kmeans_model.labels_)"
   ]
  },
  {
   "cell_type": "code",
   "execution_count": null,
   "metadata": {
    "collapsed": true
   },
   "outputs": [],
   "source": [
    "# plot kmeans clusters\n",
    "# perform PCA analysis"
   ]
  }
 ],
 "metadata": {
  "kernelspec": {
   "display_name": "Python [conda env:openai]",
   "language": "python",
   "name": "conda-env-openai-py"
  },
  "language_info": {
   "codemirror_mode": {
    "name": "ipython",
    "version": 3
   },
   "file_extension": ".py",
   "mimetype": "text/x-python",
   "name": "python",
   "nbconvert_exporter": "python",
   "pygments_lexer": "ipython3",
   "version": "3.5.4"
  }
 },
 "nbformat": 4,
 "nbformat_minor": 2
}
